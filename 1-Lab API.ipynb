{
 "cells": [
  {
   "cell_type": "code",
   "execution_count": null,
   "id": "3f921a64-1db8-4ac9-a753-027480797c7c",
   "metadata": {},
   "outputs": [],
   "source": []
  },
  {
   "cell_type": "code",
   "execution_count": 1,
   "id": "98380920-f969-427c-89a4-189d6e1f9726",
   "metadata": {
    "tags": []
   },
   "outputs": [],
   "source": [
    "# Requests allows us to make HTTP requests which we will use to get data from an API\n",
    "import requests\n",
    "# Pandas is a software library written for the Python programming language for data manipulation and analysis.\n",
    "import pandas as pd\n",
    "# NumPy is a library for the Python programming language, adding support for large, multi-dimensional arrays and matrices, along with a large collection of high-level mathematical functions to operate on these arrays\n",
    "import numpy as np\n",
    "# Datetime is a library that allows us to represent dates\n",
    "import datetime\n",
    "\n",
    "# Setting this option will print all collumns of a dataframe\n",
    "pd.set_option('display.max_columns', None)\n",
    "# Setting this option will print all of the data in a feature\n",
    "pd.set_option('display.max_colwidth', None)"
   ]
  },
  {
   "cell_type": "code",
   "execution_count": null,
   "id": "212baa27-15c7-4f93-9acd-f7e7e838ba60",
   "metadata": {},
   "outputs": [],
   "source": []
  },
  {
   "cell_type": "code",
   "execution_count": 2,
   "id": "774b906d-3066-4d15-9de8-33f007a80b8d",
   "metadata": {
    "tags": []
   },
   "outputs": [],
   "source": [
    "# Takes the dataset and uses the rocket column to call the API and append the data to the list\n",
    "def getBoosterVersion(data):\n",
    "    for x in data['rocket']:\n",
    "       if x:\n",
    "        response = requests.get(\"https://api.spacexdata.com/v4/rockets/\"+str(x)).json()\n",
    "        BoosterVersion.append(response['name'])"
   ]
  },
  {
   "cell_type": "code",
   "execution_count": null,
   "id": "2d8a7206-fc43-452b-8261-b5882b21f3b7",
   "metadata": {},
   "outputs": [],
   "source": []
  },
  {
   "cell_type": "code",
   "execution_count": 3,
   "id": "90b92e60-aece-4d2f-80e1-5dcd9bd71563",
   "metadata": {
    "tags": []
   },
   "outputs": [],
   "source": [
    "# Takes the dataset and uses the launchpad column to call the API and append the data to the list\n",
    "def getLaunchSite(data):\n",
    "    for x in data['launchpad']:\n",
    "       if x:\n",
    "         response = requests.get(\"https://api.spacexdata.com/v4/launchpads/\"+str(x)).json()\n",
    "         Longitude.append(response['longitude'])\n",
    "         Latitude.append(response['latitude'])\n",
    "         LaunchSite.append(response['name'])"
   ]
  },
  {
   "cell_type": "code",
   "execution_count": null,
   "id": "dfb6e899-494f-4fd8-9a57-35943fee13b7",
   "metadata": {},
   "outputs": [],
   "source": []
  },
  {
   "cell_type": "code",
   "execution_count": 4,
   "id": "634aa8b6-9ee9-4fbb-804a-4dce72536514",
   "metadata": {
    "tags": []
   },
   "outputs": [],
   "source": [
    "# Takes the dataset and uses the payloads column to call the API and append the data to the lists\n",
    "def getPayloadData(data):\n",
    "    for load in data['payloads']:\n",
    "       if load:\n",
    "        response = requests.get(\"https://api.spacexdata.com/v4/payloads/\"+load).json()\n",
    "        PayloadMass.append(response['mass_kg'])\n",
    "        Orbit.append(response['orbit'])"
   ]
  },
  {
   "cell_type": "code",
   "execution_count": null,
   "id": "7792da04-255b-41eb-a910-b999d3c5c97d",
   "metadata": {},
   "outputs": [],
   "source": []
  },
  {
   "cell_type": "code",
   "execution_count": 5,
   "id": "e2f03a40-549d-4694-8d1d-f34560067702",
   "metadata": {
    "tags": []
   },
   "outputs": [],
   "source": [
    "# Takes the dataset and uses the cores column to call the API and append the data to the lists\n",
    "def getCoreData(data):\n",
    "    for core in data['cores']:\n",
    "            if core['core'] != None:\n",
    "                response = requests.get(\"https://api.spacexdata.com/v4/cores/\"+core['core']).json()\n",
    "                Block.append(response['block'])\n",
    "                ReusedCount.append(response['reuse_count'])\n",
    "                Serial.append(response['serial'])\n",
    "            else:\n",
    "                Block.append(None)\n",
    "                ReusedCount.append(None)\n",
    "                Serial.append(None)\n",
    "            Outcome.append(str(core['landing_success'])+' '+str(core['landing_type']))\n",
    "            Flights.append(core['flight'])\n",
    "            GridFins.append(core['gridfins'])\n",
    "            Reused.append(core['reused'])\n",
    "            Legs.append(core['legs'])\n",
    "            LandingPad.append(core['landpad'])"
   ]
  },
  {
   "cell_type": "code",
   "execution_count": null,
   "id": "4a419bfc-bbb6-4c81-b7c0-42bb76672015",
   "metadata": {},
   "outputs": [],
   "source": []
  },
  {
   "cell_type": "code",
   "execution_count": 33,
   "id": "2799c6d4-d1ed-4a55-b849-ac73383bc363",
   "metadata": {
    "tags": []
   },
   "outputs": [],
   "source": [
    "spacex_url=\"https://api.spacexdata.com/v4/launches/past\""
   ]
  },
  {
   "cell_type": "code",
   "execution_count": null,
   "id": "85d37929-5439-46b5-8b26-6fc13addab8e",
   "metadata": {},
   "outputs": [],
   "source": []
  },
  {
   "cell_type": "code",
   "execution_count": 7,
   "id": "b552aebe-7f1a-4321-ac72-75b82ad7bf55",
   "metadata": {
    "tags": []
   },
   "outputs": [],
   "source": [
    "response = requests.get(spacex_url)"
   ]
  },
  {
   "cell_type": "code",
   "execution_count": null,
   "id": "64418052-77d5-4df8-95f0-6e552ba8e8e7",
   "metadata": {
    "tags": []
   },
   "outputs": [],
   "source": [
    "print(response.content)"
   ]
  },
  {
   "cell_type": "code",
   "execution_count": 9,
   "id": "de7bad71-802b-4f58-a186-3adc8f9eccd0",
   "metadata": {
    "tags": []
   },
   "outputs": [],
   "source": [
    "static_json_url='https://cf-courses-data.s3.us.cloud-object-storage.appdomain.cloud/IBM-DS0321EN-SkillsNetwork/datasets/API_call_spacex_api.json'"
   ]
  },
  {
   "cell_type": "code",
   "execution_count": 10,
   "id": "7ddf8f7c-e4ac-4f1b-b3ac-5729c1b68f7d",
   "metadata": {
    "tags": []
   },
   "outputs": [],
   "source": [
    "response=requests.get(static_json_url)"
   ]
  },
  {
   "cell_type": "code",
   "execution_count": 11,
   "id": "d102af5f-c0d6-4169-a220-85671fe73e67",
   "metadata": {
    "tags": []
   },
   "outputs": [
    {
     "data": {
      "text/plain": [
       "200"
      ]
     },
     "execution_count": 11,
     "metadata": {},
     "output_type": "execute_result"
    }
   ],
   "source": [
    "response.status_code"
   ]
  },
  {
   "cell_type": "code",
   "execution_count": 12,
   "id": "2620099e-a3fd-4341-864b-93b860dbc539",
   "metadata": {
    "tags": []
   },
   "outputs": [],
   "source": [
    "# Use json_normalize meethod to convert the json result into a dataframe\n"
   ]
  },
  {
   "cell_type": "code",
   "execution_count": 13,
   "id": "19c79c36-5a7b-4ee5-a66d-8e88f22640a5",
   "metadata": {
    "tags": []
   },
   "outputs": [],
   "source": [
    "# Get the head of the dataframe\n"
   ]
  },
  {
   "cell_type": "code",
   "execution_count": 14,
   "id": "025304b3-3537-4dd7-bd6f-9f822fabef50",
   "metadata": {
    "tags": []
   },
   "outputs": [
    {
     "ename": "NameError",
     "evalue": "name 'data' is not defined",
     "output_type": "error",
     "traceback": [
      "\u001b[0;31m---------------------------------------------------------------------------\u001b[0m",
      "\u001b[0;31mNameError\u001b[0m                                 Traceback (most recent call last)",
      "\u001b[0;32m/tmp/ipykernel_876/3850158997.py\u001b[0m in \u001b[0;36m<module>\u001b[0;34m\u001b[0m\n\u001b[1;32m      1\u001b[0m \u001b[0;31m# Lets take a subset of our dataframe keeping only the features we want and the flight number, and date_utc.\u001b[0m\u001b[0;34m\u001b[0m\u001b[0;34m\u001b[0m\u001b[0;34m\u001b[0m\u001b[0m\n\u001b[0;32m----> 2\u001b[0;31m \u001b[0mdata\u001b[0m \u001b[0;34m=\u001b[0m \u001b[0mdata\u001b[0m\u001b[0;34m[\u001b[0m\u001b[0;34m[\u001b[0m\u001b[0;34m'rocket'\u001b[0m\u001b[0;34m,\u001b[0m \u001b[0;34m'payloads'\u001b[0m\u001b[0;34m,\u001b[0m \u001b[0;34m'launchpad'\u001b[0m\u001b[0;34m,\u001b[0m \u001b[0;34m'cores'\u001b[0m\u001b[0;34m,\u001b[0m \u001b[0;34m'flight_number'\u001b[0m\u001b[0;34m,\u001b[0m \u001b[0;34m'date_utc'\u001b[0m\u001b[0;34m]\u001b[0m\u001b[0;34m]\u001b[0m\u001b[0;34m\u001b[0m\u001b[0;34m\u001b[0m\u001b[0m\n\u001b[0m\u001b[1;32m      3\u001b[0m \u001b[0;34m\u001b[0m\u001b[0m\n\u001b[1;32m      4\u001b[0m \u001b[0;31m# We will remove rows with multiple cores because those are falcon rockets with 2 extra rocket boosters and rows that have multiple payloads in a single rocket.\u001b[0m\u001b[0;34m\u001b[0m\u001b[0;34m\u001b[0m\u001b[0;34m\u001b[0m\u001b[0m\n\u001b[1;32m      5\u001b[0m \u001b[0mdata\u001b[0m \u001b[0;34m=\u001b[0m \u001b[0mdata\u001b[0m\u001b[0;34m[\u001b[0m\u001b[0mdata\u001b[0m\u001b[0;34m[\u001b[0m\u001b[0;34m'cores'\u001b[0m\u001b[0;34m]\u001b[0m\u001b[0;34m.\u001b[0m\u001b[0mmap\u001b[0m\u001b[0;34m(\u001b[0m\u001b[0mlen\u001b[0m\u001b[0;34m)\u001b[0m\u001b[0;34m==\u001b[0m\u001b[0;36m1\u001b[0m\u001b[0;34m]\u001b[0m\u001b[0;34m\u001b[0m\u001b[0;34m\u001b[0m\u001b[0m\n",
      "\u001b[0;31mNameError\u001b[0m: name 'data' is not defined"
     ]
    }
   ],
   "source": [
    "# Lets take a subset of our dataframe keeping only the features we want and the flight number, and date_utc.\n",
    "data = data[['rocket', 'payloads', 'launchpad', 'cores', 'flight_number', 'date_utc']]\n",
    "\n",
    "# We will remove rows with multiple cores because those are falcon rockets with 2 extra rocket boosters and rows that have multiple payloads in a single rocket.\n",
    "data = data[data['cores'].map(len)==1]\n",
    "data = data[data['payloads'].map(len)==1]\n",
    "\n",
    "# Since payloads and cores are lists of size 1 we will also extract the single value in the list and replace the feature.\n",
    "data['cores'] = data['cores'].map(lambda x : x[0])\n",
    "data['payloads'] = data['payloads'].map(lambda x : x[0])\n",
    "\n",
    "# We also want to convert the date_utc to a datetime datatype and then extracting the date leaving the time\n",
    "data['date'] = pd.to_datetime(data['date_utc']).dt.date\n",
    "\n",
    "# Using the date we will restrict the dates of the launches\n",
    "data = data[data['date'] <= datetime.date(2020, 11, 13)]"
   ]
  },
  {
   "cell_type": "code",
   "execution_count": 15,
   "id": "b6e528b3-a518-43fe-ad52-9196ca58c53e",
   "metadata": {
    "tags": []
   },
   "outputs": [
    {
     "name": "stdout",
     "output_type": "stream",
     "text": [
      "Error al obtener los datos: 404\n"
     ]
    }
   ],
   "source": [
    "import requests\n",
    "import pandas as pd\n",
    "# URL del JSON estático\n",
    "static_json_url = 'https://api.spacexdata.com/v4/launches/query'\n",
    "# Obtener la respuesta\n",
    "response = requests.get(static_json_url)\n",
    "# Verificar que la respuesta sea exitosa\n",
    "if response.status_code == 200:\n",
    "    # Convertir el contenido a JSON\n",
    "    launch_data = response.json()\n",
    "    \n",
    "    # Normalizar el JSON a un DataFrame\n",
    "    data = pd.json_normalize(launch_data['docs'])  # 'docs' es donde están los lanzamientos\n",
    "else:\n",
    "    print(\"Error al obtener los datos:\", response.status_code)"
   ]
  },
  {
   "cell_type": "code",
   "execution_count": 16,
   "id": "2e7af5bd-94de-42aa-87b8-d845e6164414",
   "metadata": {
    "tags": []
   },
   "outputs": [],
   "source": [
    "import requests\n",
    "import pandas as pd\n",
    "# URL correcta de la API v4\n",
    "url = 'https://api.spacexdata.com/v4/launches'\n",
    "# Obtener los datos\n",
    "response = requests.get(url)\n",
    "# Verificar que la respuesta sea exitosa\n",
    "if response.status_code == 200:\n",
    "    launch_data = response.json()\n",
    "    data = pd.json_normalize(launch_data)\n",
    "else:\n",
    "    print(\"Error al obtener los datos:\", response.status_code)"
   ]
  },
  {
   "cell_type": "code",
   "execution_count": 17,
   "id": "81d1003d-eeb3-44ff-860a-e2a13cad4027",
   "metadata": {
    "tags": []
   },
   "outputs": [
    {
     "ename": "SyntaxError",
     "evalue": "EOL while scanning string literal (1587293256.py, line 1)",
     "output_type": "error",
     "traceback": [
      "\u001b[0;36m  File \u001b[0;32m\"/tmp/ipykernel_876/1587293256.py\"\u001b[0;36m, line \u001b[0;32m1\u001b[0m\n\u001b[0;31m    static_json_url = 'https://api.spacexdata.com/v4/launches\u001b[0m\n\u001b[0m                                                             ^\u001b[0m\n\u001b[0;31mSyntaxError\u001b[0m\u001b[0;31m:\u001b[0m EOL while scanning string literal\n"
     ]
    }
   ],
   "source": [
    "static_json_url = 'https://api.spacexdata.com/v4/launches"
   ]
  },
  {
   "cell_type": "code",
   "execution_count": 18,
   "id": "e2c26980-fb12-46ca-a313-20082a7c7858",
   "metadata": {
    "tags": []
   },
   "outputs": [],
   "source": [
    " \n",
    "import requests\n",
    "import pandas as pd\n",
    "# URL correcta\n",
    "static_json_url = 'https://api.spacexdata.com/v4/launches'\n",
    "# Obtener los datos\n",
    "response = requests.get(static_json_url)\n",
    "# Verificar respuesta\n",
    "if response.status_code == 200:\n",
    "    launch_data = response.json()\n",
    "    data = pd.json_normalize(launch_data)\n",
    "    \n",
    "    # Mostrar los primeros datos\n",
    "    data.head()\n",
    "else:\n",
    "    print(\"Error al obtener los datos:\", response.status_code)"
   ]
  },
  {
   "cell_type": "code",
   "execution_count": 19,
   "id": "cb3e3a6d-b04d-4239-834c-f8b6d0ab466f",
   "metadata": {
    "tags": []
   },
   "outputs": [],
   "source": [
    " \n",
    "data = data[['rocket', 'payloads', 'launchpad', 'cores', 'date_utc']]"
   ]
  },
  {
   "cell_type": "code",
   "execution_count": 20,
   "id": "30045dbc-e03f-4357-bb01-c48111e46a91",
   "metadata": {
    "tags": []
   },
   "outputs": [],
   "source": [
    " \n",
    "data = data[data['cores'].map(len) == 1]\n",
    "data = data[data['payloads'].map(len) == 1]"
   ]
  },
  {
   "cell_type": "code",
   "execution_count": null,
   "id": "27ef3470-629a-44f4-9839-ea8bdb2ace24",
   "metadata": {},
   "outputs": [],
   "source": []
  },
  {
   "cell_type": "code",
   "execution_count": null,
   "id": "5e89d5a0-5755-4e7c-a3f0-324e5f5596b4",
   "metadata": {},
   "outputs": [],
   "source": []
  },
  {
   "cell_type": "code",
   "execution_count": null,
   "id": "994740a5-3fc0-4aef-a282-837f31c1bc74",
   "metadata": {
    "tags": []
   },
   "outputs": [],
   "source": [
    "data['date'] = pd.to_datetime(data['date_utc']).dt.date\n",
    " \n"
   ]
  },
  {
   "cell_type": "code",
   "execution_count": null,
   "id": "0f912346-5697-4b01-abcd-397700d98883",
   "metadata": {
    "tags": []
   },
   "outputs": [],
   "source": [
    " \n",
    "import datetime\n",
    "data = data[data['date'] <= datetime.date(2017, 6, 1)]\n",
    " "
   ]
  },
  {
   "cell_type": "code",
   "execution_count": null,
   "id": "df5d9246-4e49-484b-86bd-e7cd2c6f28a4",
   "metadata": {},
   "outputs": [],
   "source": []
  },
  {
   "cell_type": "code",
   "execution_count": 22,
   "id": "de112340-556f-4fab-9359-f72a93983209",
   "metadata": {
    "tags": []
   },
   "outputs": [],
   "source": [
    "def getBoosterVersion(data):\n",
    "    global BoosterVersion\n",
    "    BoosterVersion.clear()  # Limpiar la lista por si ya tenía datos\n",
    "    for core_id in data['cores']:\n",
    "        core = requests.get(f'https://api.spacexdata.com/v4/cores/{core_id}').json()\n",
    "        BoosterVersion.append(core.get('name', 'Unknown'))"
   ]
  },
  {
   "cell_type": "code",
   "execution_count": 23,
   "id": "caa10e70-a026-47bf-a9b8-eefcff4b36a3",
   "metadata": {
    "tags": []
   },
   "outputs": [],
   "source": [
    "def getLaunchSite(data):\n",
    "    global LaunchSite\n",
    "    LaunchSite.clear()\n",
    "    for launchpad_id in data['launchpad']:\n",
    "        launchpad = requests.get(f'https://api.spacexdata.com/v4/launchpads/{launchpad_id}').json()\n",
    "        LaunchSite.append(launchpad.get('name', 'Unknown'))\n",
    " "
   ]
  },
  {
   "cell_type": "code",
   "execution_count": 25,
   "id": "e4ce5dc3-9d3e-444e-a41c-39a85187f145",
   "metadata": {
    "tags": []
   },
   "outputs": [],
   "source": [
    " \n",
    "def getBoosterVersion(data):\n",
    "    global BoosterVersion\n",
    "    BoosterVersion.clear()\n",
    "    for core_id in data['cores']:\n",
    "        core = requests.get(f'https://api.spacexdata.com/v4/cores/{core_id}').json()\n",
    "        BoosterVersion.append(core.get('name', 'Unknown'))\n",
    "def getLaunchSite(data):\n",
    "    global LaunchSite\n",
    "    LaunchSite.clear()\n",
    "    for launchpad_id in data['launchpad']:\n",
    "        launchpad = requests.get(f'https://api.spacexdata.com/v4/launchpads/{launchpad_id}').json()\n",
    "        LaunchSite.append(launchpad.get('name', 'Unknown'))\n",
    "def getPayloadMass(data):\n",
    "    global PayloadMass\n",
    "    PayloadMass.clear()\n",
    "    for payload_id in data['payloads']:\n",
    "        payload = requests.get(f'https://api.spacexdata.com/v4/payloads/{payload_id}').json()"
   ]
  },
  {
   "cell_type": "code",
   "execution_count": 31,
   "id": "dc6812e7-cbc5-448e-a8f8-694d2201cf9c",
   "metadata": {
    "tags": []
   },
   "outputs": [],
   "source": [
    " \n",
    "# Definir todas las listas vacías\n",
    "BoosterVersion = []\n",
    "PayloadMass = []\n",
    "Orbit = []\n",
    "LaunchSite = []\n",
    "Outcome = []\n",
    "Flights = []\n",
    "GridFins = []\n",
    "Reused = []\n",
    "Legs = []\n",
    "LandingPad = []\n",
    "Block = []\n",
    "ReusedCount = []\n",
    "Serial = []\n",
    "Longitude = []\n",
    "Latitude = []"
   ]
  },
  {
   "cell_type": "code",
   "execution_count": null,
   "id": "c6fb786f-1240-43df-a9e9-0707a2fafb33",
   "metadata": {
    "tags": []
   },
   "outputs": [],
   "source": [
    "print(\"BoosterVersion:\", BoosterVersion[:5])"
   ]
  },
  {
   "cell_type": "code",
   "execution_count": null,
   "id": "8a439ac8-24e2-4ce3-84e2-0409c807cb1a",
   "metadata": {
    "tags": []
   },
   "outputs": [],
   "source": [
    " \n",
    "# Crear el diccionario con los datos\n",
    "launch_dict = {\n",
    "    'Date': list(data['date']),\n",
    "    'BoosterVersion': BoosterVersion,\n",
    "    'PayloadMass': PayloadMass,\n",
    "    'Orbit': Orbit,\n",
    "    'LaunchSite': LaunchSite,\n",
    "    'Outcome': Outcome,\n",
    "    'Flights': Flights,\n",
    "    'GridFins': GridFins,\n",
    "    'Reused': Reused,\n",
    "    'Legs': Legs,\n",
    "    'LandingPad': LandingPad,\n",
    "    'Block': Block,\n",
    "    'ReusedCount': ReusedCount,\n",
    "    'Serial': Serial,\n",
    "    'Longitude': Longitude,\n",
    "    'Latitude': Latitude\n",
    "}\n",
    "# Crear el DataFrame\n",
    "launch_df = pd.DataFrame(launch_dict)\n",
    "# Mostrar resumen y primeras filas\n",
    "print(launch_df.info())\n",
    "launch_df.head()"
   ]
  },
  {
   "cell_type": "code",
   "execution_count": null,
   "id": "f7207af2-1957-4554-99c5-b654b8980852",
   "metadata": {
    "tags": []
   },
   "outputs": [],
   "source": [
    " \n",
    "print(\"Date:\", len(data['date']))\n",
    "print(\"BoosterVersion:\", len(BoosterVersion))\n",
    "print(\"PayloadMass:\", len(PayloadMass))\n",
    "print(\"Orbit:\", len(Orbit))\n",
    "print(\"LaunchSite:\", len(LaunchSite))\n",
    "print(\"Outcome:\", len(Outcome))\n",
    "print(\"Flights:\", len(Flights))\n",
    "print(\"GridFins:\", len(GridFins))\n",
    "print(\"Reused:\", len(Reused))\n",
    "print(\"Legs:\", len(Legs))\n",
    "print(\"LandingPad:\", len(LandingPad))\n",
    "print(\"Block:\", len(Block))\n",
    "print(\"ReusedCount:\", len(ReusedCount))\n",
    "print(\"Serial:\", len(Serial))\n",
    "print(\"Longitude:\", len(Longitude))\n",
    "print(\"Latitude:\", len(Latitude))\n",
    " "
   ]
  },
  {
   "cell_type": "code",
   "execution_count": null,
   "id": "10258260-b15d-4d0b-90e3-458772f6885e",
   "metadata": {
    "tags": []
   },
   "outputs": [],
   "source": [
    " \n",
    "getBoosterVersion(data)\n",
    "getPayloadMass(data)\n",
    "getOrbit(data)\n",
    "getLaunchSite(data)\n",
    "getCoreDetails(data)\n",
    "getLaunchpadCoordinates(data)"
   ]
  },
  {
   "cell_type": "code",
   "execution_count": null,
   "id": "bf9e093d-ecb5-43bc-8dd5-d1a61c389434",
   "metadata": {
    "tags": []
   },
   "outputs": [],
   "source": [
    " \n",
    "print(len(BoosterVersion))\n",
    "print(len(PayloadMass))\n",
    "print(len(Orbit))\n",
    "print(len(LaunchSite))\n",
    "print(len(Outcome))\n",
    "print(len(Flights))\n",
    "print(len(GridFins))\n",
    "print(len(Reused))\n",
    "print(len(Legs))\n",
    "print(len(LandingPad))\n",
    "print(len(Block))\n",
    "print(len(ReusedCount))\n",
    "print(len(Serial))\n",
    "print(len(Longitude))\n",
    "print(len(Latitude))"
   ]
  },
  {
   "cell_type": "code",
   "execution_count": null,
   "id": "6004d72b-bb94-41bf-ab36-d6a1a320b52f",
   "metadata": {
    "tags": []
   },
   "outputs": [],
   "source": [
    " \n",
    "getBoosterVersion(data)\n",
    "getPayloadMass(data)\n",
    "getOrbit(data)\n",
    "getLaunchSite(data)\n",
    "getCoreDetails(data)\n",
    "getLaunchpadCoordinates(data)"
   ]
  },
  {
   "cell_type": "code",
   "execution_count": null,
   "id": "9b077fbf-3d97-4b39-80cd-5d05dce145c3",
   "metadata": {
    "tags": []
   },
   "outputs": [],
   "source": [
    " \n",
    "print(data['cores'].head())\n",
    "print(data['payloads'].head())\n",
    "print(data['launchpad'].head())"
   ]
  },
  {
   "cell_type": "code",
   "execution_count": null,
   "id": "e0af846d-8bba-42fa-8277-80c2b18f8c57",
   "metadata": {
    "tags": []
   },
   "outputs": [],
   "source": [
    " \n",
    "import requests\n",
    "# Función para BoosterVersion\n",
    "def getBoosterVersion(data):\n",
    "    global BoosterVersion\n",
    "    BoosterVersion.clear()\n",
    "    for core_id in data['cores']:\n",
    "        try:\n",
    "            response = requests.get(f'https://api.spacexdata.com/v4/cores/{core_id}')\n",
    "            if response.status_code == 200:\n",
    "                BoosterVersion.append(response.json().get('name', 'Unknown'))\n",
    "            else:\n",
    "                BoosterVersion.append('Unknown')\n",
    "        except:\n",
    "            BoosterVersion.append('Unknown')\n",
    "            \n",
    "# Función para PayloadMass\n",
    "def getPayloadMass(data):\n",
    "    global PayloadMass\n",
    "    PayloadMass.clear()\n",
    "    for payload_id in data['payloads']:\n",
    "        try:\n",
    "            response = requests.get(f'https://api.spacexdata.com/v4/payloads/{payload_id}')\n",
    "            if response.status_code == 200:\n",
    "                PayloadMass.append(response.json().get('mass_kg', 0))\n",
    "            else:\n",
    "                PayloadMass.append(0)\n",
    "        except:\n",
    "            PayloadMass.append(0)\n",
    "# Función para Orbit\n",
    "def getOrbit(data):\n",
    "    global Orbit\n",
    "    Orbit.clear()\n",
    "    for payload_id in data['payloads']:\n",
    "        try:\n",
    "            response = requests.get(f'https://api.spacexdata.com/v4/payloads/{payload_id}')\n",
    "            if response.status_code == 200:\n",
    "                Orbit.append(response.json().get('orbit', 'Unknown'))\n",
    "                else:\n",
    "                Orbit.append('Unknown')\n",
    "        except:\n",
    "            Orbit.append('Unknown')\n",
    "# Función para LaunchSite\n",
    "def getLaunchSite(data):\n",
    "    global LaunchSite\n",
    "    LaunchSite.clear()\n",
    "    for launchpad_id in data['launchpad']:\n",
    "        try:\n",
    "            response = requests.get(f'https://api.spacexdata.com/v4/launchpads/{launchpad_id}')\n",
    "            if response.status_code == 200:\n",
    "                LaunchSite.append(response.json().get('name', 'Unknown'))\n",
    "            else:\n",
    "                LaunchSite.append('Unknown')\n",
    "        except:\n",
    "            LaunchSite.append('Unknown')\n",
    "            # Función para detalles del core\n",
    "def getCoreDetails(data):\n",
    "    global Outcome, Flights, GridFins, Reused, Legs, LandingPad, Block, ReusedCount, Serial\n",
    "    Outcome.clear()\n",
    "    Flights.clear()\n",
    "    GridFins.clear()\n",
    "    Reused.clear()\n",
    "    Legs.clear()\n",
    "    LandingPad.clear()\n",
    "    Block.clear()\n",
    "    ReusedCount.clear()\n",
    "    Serial.clear()\n",
    "    for core_id in data['cores']:\n",
    "        try:\n",
    "            response = requests.get(f'https://api.spacexdata.com/v4/cores/{core_id}')\n",
    "            if response.status_code == 200:\n",
    "                core = response.json()\n",
    "                Outcome.append(core.get('landing_success', 'Unknown'))\n",
    "                Flights.append(core.get('flight', 0))\n",
    "                GridFins.append(core.get('gridfins', False))\n",
    "                Reused.append(core.get('reused', False))\n",
    "                Legs.append(core.get('legs', False))\n",
    "                                LandingPad.append(core.get('landing_pad', 'Unknown'))\n",
    "                Block.append(core.get('block', 'Unknown'))\n",
    "                ReusedCount.append(core.get('reuse_count', 0))\n",
    "                Serial.append(core.get('serial', 'Unknown'))\n",
    "            else:\n",
    "                Outcome.append('Unknown')\n",
    "                Flights.append(0)\n",
    "                GridFins.append(False)\n",
    "                Reused.append(False)\n",
    "                Legs.append(False)\n",
    "                LandingPad.append('Unknown')\n",
    "                Block.append('Unknown')\n",
    "                ReusedCount.append(0)\n",
    "                Serial.append('Unknown')\n",
    "        except:\n",
    "            Outcome.append('Unknown')\n",
    "            Flights.append(0)\n",
    "            GridFins.append(False)\n",
    "            Reused.append(False)\n",
    "            Legs.append(False)\n",
    "            LandingPad.append('Unknown')\n",
    "            Block.append('Unknown')\n",
    "            ReusedCount.append(0)\n",
    "            Serial.append('Unknown')\n",
    "            # Función para coordenadas del sitio de lanzamiento\n",
    "def getLaunchpadCoordinates(data):\n",
    "    global Longitude, Latitude\n",
    "    Longitude.clear()\n",
    "    Latitude.clear()\n",
    "    for launchpad_id in data['launchpad']:\n",
    "        try:\n",
    "            response = requests.get(f'https://api.spacexdata.com/v4/launchpads/{launchpad_id}')\n",
    "            if response.status_code == 200:\n",
    "                launchpad = response.json()\n",
    "                Longitude.append(launchpad.get('longitude', None))\n",
    "                Latitude.append(launchpad.get('latitude', None))\n",
    "            else:\n",
    "                Longitude.append(None)\n",
    "                Latitude.append(None)\n",
    "        except:\n",
    "            Longitude.append(None)\n",
    "            Latitude.append(None)"
   ]
  },
  {
   "cell_type": "code",
   "execution_count": null,
   "id": "a82e3410-f681-4da3-8c7c-05c44d5cb95c",
   "metadata": {
    "tags": []
   },
   "outputs": [],
   "source": [
    "data.loc[0, 'static_fire_date_utc']"
   ]
  },
  {
   "cell_type": "code",
   "execution_count": null,
   "id": "0018b87e-4769-44b2-8034-2a606b2a64ba",
   "metadata": {
    "tags": []
   },
   "outputs": [],
   "source": [
    " \n",
    "import requests\n",
    "import pandas as pd\n",
    "url = 'https://api.spacexdata.com/v4/launches'\n",
    "response = requests.get(url)\n",
    "data = pd.json_normalize(response.json())\n",
    "# Verifica si la columna existe\n",
    "print('static_fire_date_utc' in data.columns)\n",
    "print(data[['static_fire_date_utc']].head())"
   ]
  },
  {
   "cell_type": "code",
   "execution_count": null,
   "id": "ec8dfce1-074a-4db1-b46e-418c7c8b2dfa",
   "metadata": {
    "tags": []
   },
   "outputs": [],
   "source": [
    " \n",
    "# Extraer el año de la primera fila de 'static_fire_date_utc'\n",
    "first_date = data.loc[0, 'static_fire_date_utc']\n",
    "year = pd.to_datetime(first_date).year\n",
    "print(\"Año de la primera fila en 'static_fire_date_utc':\", year)"
   ]
  },
  {
   "cell_type": "code",
   "execution_count": null,
   "id": "67f5ab1b-0fca-43cc-95f6-0ff5f758cf18",
   "metadata": {
    "tags": []
   },
   "outputs": [],
   "source": [
    " \n",
    "# Obtener los nombres de los cohetes desde la API\n",
    "rockets = requests.get('https://api.spacexdata.com/v4/rockets').json()\n",
    "rocket_dict = {r['id']: r['name'] for r in rockets}\n",
    "# Agregar columna con nombre del cohete\n",
    "data['rocket_name'] = data['rocket'].map(rocket_dict)\n",
    "# Filtrar lanzamientos Falcon 9\n",
    "falcon9_count = len(data[data['rocket_name'] == 'Falcon 9'])\n",
    "print(\"Cantidad de lanzamientos Falcon 9:\", falcon9_count)"
   ]
  },
  {
   "cell_type": "code",
   "execution_count": null,
   "id": "fbb8c463-230e-412b-bb06-becb7119648f",
   "metadata": {
    "tags": []
   },
   "outputs": [],
   "source": [
    " \n",
    "# Verifica si 'rocket' tiene valores válidos\n",
    "print(data['rocket'].head())\n",
    "# Obtener nombres desde la API\n",
    "rockets = requests.get('https://api.spacexdata.com/v4/rockets').json()\n",
    "rocket_dict = {r['id']: r['name'] for r in rockets}\n",
    "# Agregar nombre del cohete\n",
    "data['rocket_name'] = data['rocket'].map(rocket_dict)\n",
    "# Verifica si 'rocket_name' tiene valores válidos\n",
    "print(data[['rocket', 'rocket_name']].head())\n",
    "# Filtrar lanzamientos Falcon 9\n",
    "falcon9_count = len(data[data['rocket_name'] == 'Falcon 9'])\n",
    "print(\"Cantidad de lanzamientos Falcon 9:\", falcon9_count)"
   ]
  },
  {
   "cell_type": "code",
   "execution_count": null,
   "id": "80f514f6-541c-4de7-8160-1e95f8e3f470",
   "metadata": {
    "tags": []
   },
   "outputs": [],
   "source": [
    "print(data['rocket'].head())"
   ]
  },
  {
   "cell_type": "code",
   "execution_count": 34,
   "id": "630f8361-2c75-4fdf-8bfe-34bac775603c",
   "metadata": {
    "tags": []
   },
   "outputs": [
    {
     "name": "stdout",
     "output_type": "stream",
     "text": [
      "                     rocket rocket_name\n",
      "0  5e9d0d95eda69955f709d1eb    Falcon 1\n",
      "1  5e9d0d95eda69955f709d1eb    Falcon 1\n",
      "3  5e9d0d95eda69955f709d1eb    Falcon 1\n",
      "4  5e9d0d95eda69955f709d1eb    Falcon 1\n",
      "5  5e9d0d95eda69973a809d1ec    Falcon 9\n"
     ]
    }
   ],
   "source": [
    "# Obtener los nombres de los cohetes desde la API\n",
    "rockets = requests.get('https://api.spacexdata.com/v4/rockets').json()\n",
    "rocket_dict = {r['id']: r['name'] for r in rockets}\n",
    "# Mapear los nombres al DataFrame\n",
    "data['rocket_name'] = data['rocket'].map(rocket_dict)\n",
    "# Verificar si el mapeo funcionó\n",
    "print(data[['rocket', 'rocket_name']].head())\n",
    " "
   ]
  },
  {
   "cell_type": "code",
   "execution_count": 35,
   "id": "f1c828b3-ecbf-43a2-8557-cdc490d04782",
   "metadata": {
    "tags": []
   },
   "outputs": [
    {
     "name": "stdout",
     "output_type": "stream",
     "text": [
      "4\n"
     ]
    }
   ],
   "source": [
    "rockets = requests.get('https://api.spacexdata.com/v4/rockets').json()\n",
    "print(len(rockets))  # ¿Devuelve un número mayor que 0?"
   ]
  },
  {
   "cell_type": "code",
   "execution_count": 36,
   "id": "fd23807d-55ff-46f8-9f7f-25308d66e4f5",
   "metadata": {
    "tags": []
   },
   "outputs": [
    {
     "name": "stdout",
     "output_type": "stream",
     "text": [
      "{'5e9d0d95eda69955f709d1eb': 'Falcon 1', '5e9d0d95eda69973a809d1ec': 'Falcon 9', '5e9d0d95eda69974db09d1ed': 'Falcon Heavy', '5e9d0d96eda699382d09d1ee': 'Starship'}\n"
     ]
    }
   ],
   "source": [
    " \n",
    "rocket_dict = {r['id']: r['name'] for r in rockets}\n",
    "print(rocket_dict)"
   ]
  },
  {
   "cell_type": "code",
   "execution_count": 37,
   "id": "49026de8-9504-4d21-a14c-7bbd1b4d6c59",
   "metadata": {
    "tags": []
   },
   "outputs": [
    {
     "name": "stdout",
     "output_type": "stream",
     "text": [
      "                     rocket rocket_name\n",
      "0  5e9d0d95eda69955f709d1eb    Falcon 1\n",
      "1  5e9d0d95eda69955f709d1eb    Falcon 1\n",
      "3  5e9d0d95eda69955f709d1eb    Falcon 1\n",
      "4  5e9d0d95eda69955f709d1eb    Falcon 1\n",
      "5  5e9d0d95eda69973a809d1ec    Falcon 9\n"
     ]
    }
   ],
   "source": [
    " \n",
    "data['rocket_name'] = data['rocket'].map(rocket_dict)\n",
    "print(data[['rocket', 'rocket_name']].head())"
   ]
  },
  {
   "cell_type": "code",
   "execution_count": 38,
   "id": "df790131-a650-44a4-a363-d7828305bb50",
   "metadata": {
    "tags": []
   },
   "outputs": [
    {
     "name": "stdout",
     "output_type": "stream",
     "text": [
      "Cantidad de lanzamientos Falcon 9: 173\n"
     ]
    }
   ],
   "source": [
    " \n",
    "falcon9_count = len(data[data['rocket_name'] == 'Falcon 9'])\n",
    "print(\"Cantidad de lanzamientos Falcon 9:\", falcon9_count)"
   ]
  },
  {
   "cell_type": "code",
   "execution_count": 39,
   "id": "db8792f7-e104-4b61-90e0-da7260cd7644",
   "metadata": {
    "tags": []
   },
   "outputs": [
    {
     "name": "stdout",
     "output_type": "stream",
     "text": [
      "Index(['rocket', 'payloads', 'launchpad', 'cores', 'date_utc', 'rocket_name'], dtype='object')\n"
     ]
    }
   ],
   "source": [
    "print(data.columns)"
   ]
  },
  {
   "cell_type": "code",
   "execution_count": 40,
   "id": "782675ea-c7c1-4f4e-b466-48e56d41b533",
   "metadata": {
    "tags": []
   },
   "outputs": [
    {
     "name": "stdout",
     "output_type": "stream",
     "text": [
      "Valores faltantes en 'launchpad': 0\n"
     ]
    }
   ],
   "source": [
    " \n",
    "missing_launchpad = data['launchpad'].isnull().sum()\n",
    "print(\"Valores faltantes en 'launchpad':\", missing_launchpad)"
   ]
  },
  {
   "cell_type": "code",
   "execution_count": 41,
   "id": "48a6c564-f27f-4305-a060-083acb8c576c",
   "metadata": {
    "tags": []
   },
   "outputs": [
    {
     "name": "stdout",
     "output_type": "stream",
     "text": [
      "Cantidad de valores faltantes en 'landingPad': 177\n"
     ]
    }
   ],
   "source": [
    "# Crear la columna 'landingPad' desde los datos del core\n",
    "landing_pad_list = []\n",
    "for core_id in data['cores']:\n",
    "    try:\n",
    "        response = requests.get(f'https://api.spacexdata.com/v4/cores/{core_id}')\n",
    "        if response.status_code == 200:\n",
    "            core_data = response.json()\n",
    "            landing_pad_list.append(core_data.get('landing_pad', None))\n",
    "        else:\n",
    "            landing_pad_list.append(None)\n",
    "    except:\n",
    "        landing_pad_list.append(None)\n",
    "# Agregar la columna al DataFrame\n",
    "data['landingPad'] = landing_pad_list\n",
    "# Contar los valores faltantes\n",
    "missing_landing_pad = data['landingPad'].isnull().sum()\n",
    "print(\"Cantidad de valores faltantes en 'landingPad':\", missing_landing_pad)"
   ]
  },
  {
   "cell_type": "code",
   "execution_count": 42,
   "id": "8b78b84b-c57c-4d85-8683-c6b435a6e3e7",
   "metadata": {
    "tags": []
   },
   "outputs": [
    {
     "name": "stdout",
     "output_type": "stream",
     "text": [
      "Valores faltantes en 'landingPad': 173\n"
     ]
    },
    {
     "name": "stderr",
     "output_type": "stream",
     "text": [
      "/home/jupyterlab/conda/envs/python/lib/python3.7/site-packages/ipykernel_launcher.py:13: SettingWithCopyWarning: \n",
      "A value is trying to be set on a copy of a slice from a DataFrame.\n",
      "Try using .loc[row_indexer,col_indexer] = value instead\n",
      "\n",
      "See the caveats in the documentation: https://pandas.pydata.org/pandas-docs/stable/user_guide/indexing.html#returning-a-view-versus-a-copy\n",
      "  del sys.path[0]\n"
     ]
    }
   ],
   "source": [
    " \n",
    "falcon9_data = data[data['rocket_name'] == 'Falcon 9']\n",
    "landing_pad_list = []\n",
    "for core_id in falcon9_data['cores']:\n",
    "    try:\n",
    "        response = requests.get(f'https://api.spacexdata.com/v4/cores/{core_id}')\n",
    "        if response.status_code == 200:\n",
    "            core_data = response.json()\n",
    "            landing_pad_list.append(core_data.get('landing_pad', None))\n",
    "        else:\n",
    "            landing_pad_list.append(None)\n",
    "    except Exception as e:\n",
    "        landing_pad_list.append(None)\n",
    "falcon9_data['landingPad'] = landing_pad_list\n",
    "print(\"Valores faltantes en 'landingPad':\", falcon9_data['landingPad'].isnull().sum())"
   ]
  },
  {
   "cell_type": "code",
   "execution_count": null,
   "id": "86fba98a-3cc4-4dc4-97c7-9b5bbf178521",
   "metadata": {},
   "outputs": [],
   "source": []
  },
  {
   "cell_type": "code",
   "execution_count": 43,
   "id": "af25aa06-780f-404e-be7c-0c870940b23e",
   "metadata": {
    "tags": []
   },
   "outputs": [
    {
     "name": "stdout",
     "output_type": "stream",
     "text": [
      "Cantidad de lanzamientos Falcon 9: 173\n"
     ]
    }
   ],
   "source": [
    " \n",
    "# Obtener los nombres de cohetes desde la API\n",
    "rockets = requests.get('https://api.spacexdata.com/v4/rockets').json()\n",
    "rocket_dict = {r['id']: r['name'] for r in rockets}\n",
    "# Mapear nombres al DataFrame\n",
    "data['rocket_name'] = data['rocket'].map(rocket_dict)\n",
    "# Contar lanzamientos Falcon 9\n",
    "falcon9_count = data['rocket_name'].value_counts().get('Falcon 9', 0)\n",
    "print(\"Cantidad de lanzamientos Falcon 9:\", falcon9_count)"
   ]
  },
  {
   "cell_type": "code",
   "execution_count": null,
   "id": "7b511da6-a95c-4f87-8971-5287a117daae",
   "metadata": {},
   "outputs": [],
   "source": []
  },
  {
   "cell_type": "code",
   "execution_count": null,
   "id": "0eee3271-8a2e-4cd3-8b09-1ec8c0d6dc6f",
   "metadata": {},
   "outputs": [],
   "source": []
  },
  {
   "cell_type": "code",
   "execution_count": 44,
   "id": "48cf6a13-0abd-408a-a4b4-bd61ae697923",
   "metadata": {
    "tags": []
   },
   "outputs": [],
   "source": [
    "# Hint data['BoosterVersion']!='Falcon 1'\n"
   ]
  },
  {
   "cell_type": "code",
   "execution_count": null,
   "id": "37521b6e-e0a1-4cd4-9974-3f34184ceb27",
   "metadata": {
    "tags": []
   },
   "outputs": [],
   "source": [
    "data['launchpad'].value_counts()"
   ]
  },
  {
   "cell_type": "code",
   "execution_count": null,
   "id": "e571e69b-4c6f-46a4-ae07-4938f3f48a13",
   "metadata": {},
   "outputs": [],
   "source": []
  },
  {
   "cell_type": "code",
   "execution_count": null,
   "id": "40a453e9-7d71-4e1f-aeaa-e5146b90a55f",
   "metadata": {
    "tags": []
   },
   "outputs": [],
   "source": [
    " \n",
    "print([col for col in data.columns if 'Booster' in col])"
   ]
  },
  {
   "cell_type": "code",
   "execution_count": null,
   "id": "55141782-7cff-4634-8495-73466cccde37",
   "metadata": {},
   "outputs": [],
   "source": []
  },
  {
   "cell_type": "code",
   "execution_count": 46,
   "id": "a9be1d78-7b62-44b7-97d0-9587d98a08bb",
   "metadata": {
    "tags": []
   },
   "outputs": [
    {
     "ename": "KeyError",
     "evalue": "'BoosterVersion'",
     "output_type": "error",
     "traceback": [
      "\u001b[0;31m---------------------------------------------------------------------------\u001b[0m",
      "\u001b[0;31mKeyError\u001b[0m                                  Traceback (most recent call last)",
      "\u001b[0;32m~/conda/envs/python/lib/python3.7/site-packages/pandas/core/indexes/base.py\u001b[0m in \u001b[0;36mget_loc\u001b[0;34m(self, key, method, tolerance)\u001b[0m\n\u001b[1;32m   3360\u001b[0m             \u001b[0;32mtry\u001b[0m\u001b[0;34m:\u001b[0m\u001b[0;34m\u001b[0m\u001b[0;34m\u001b[0m\u001b[0m\n\u001b[0;32m-> 3361\u001b[0;31m                 \u001b[0;32mreturn\u001b[0m \u001b[0mself\u001b[0m\u001b[0;34m.\u001b[0m\u001b[0m_engine\u001b[0m\u001b[0;34m.\u001b[0m\u001b[0mget_loc\u001b[0m\u001b[0;34m(\u001b[0m\u001b[0mcasted_key\u001b[0m\u001b[0;34m)\u001b[0m\u001b[0;34m\u001b[0m\u001b[0;34m\u001b[0m\u001b[0m\n\u001b[0m\u001b[1;32m   3362\u001b[0m             \u001b[0;32mexcept\u001b[0m \u001b[0mKeyError\u001b[0m \u001b[0;32mas\u001b[0m \u001b[0merr\u001b[0m\u001b[0;34m:\u001b[0m\u001b[0;34m\u001b[0m\u001b[0;34m\u001b[0m\u001b[0m\n",
      "\u001b[0;32m~/conda/envs/python/lib/python3.7/site-packages/pandas/_libs/index.pyx\u001b[0m in \u001b[0;36mpandas._libs.index.IndexEngine.get_loc\u001b[0;34m()\u001b[0m\n",
      "\u001b[0;32m~/conda/envs/python/lib/python3.7/site-packages/pandas/_libs/index.pyx\u001b[0m in \u001b[0;36mpandas._libs.index.IndexEngine.get_loc\u001b[0;34m()\u001b[0m\n",
      "\u001b[0;32mpandas/_libs/hashtable_class_helper.pxi\u001b[0m in \u001b[0;36mpandas._libs.hashtable.PyObjectHashTable.get_item\u001b[0;34m()\u001b[0m\n",
      "\u001b[0;32mpandas/_libs/hashtable_class_helper.pxi\u001b[0m in \u001b[0;36mpandas._libs.hashtable.PyObjectHashTable.get_item\u001b[0;34m()\u001b[0m\n",
      "\u001b[0;31mKeyError\u001b[0m: 'BoosterVersion'",
      "\nThe above exception was the direct cause of the following exception:\n",
      "\u001b[0;31mKeyError\u001b[0m                                  Traceback (most recent call last)",
      "\u001b[0;32m/tmp/ipykernel_876/4134206519.py\u001b[0m in \u001b[0;36m<module>\u001b[0;34m\u001b[0m\n\u001b[1;32m      1\u001b[0m \u001b[0;31m# Filtrar los lanzamientos que no son Falcon 1\u001b[0m\u001b[0;34m\u001b[0m\u001b[0;34m\u001b[0m\u001b[0;34m\u001b[0m\u001b[0m\n\u001b[0;32m----> 2\u001b[0;31m \u001b[0mdata_falcon9\u001b[0m \u001b[0;34m=\u001b[0m \u001b[0mdata\u001b[0m\u001b[0;34m[\u001b[0m\u001b[0mdata\u001b[0m\u001b[0;34m[\u001b[0m\u001b[0;34m'BoosterVersion'\u001b[0m\u001b[0;34m]\u001b[0m \u001b[0;34m!=\u001b[0m \u001b[0;34m'Falcon 1'\u001b[0m\u001b[0;34m]\u001b[0m\u001b[0;34m\u001b[0m\u001b[0;34m\u001b[0m\u001b[0m\n\u001b[0m\u001b[1;32m      3\u001b[0m \u001b[0;31m# Reiniciar la numeración de los vuelos\u001b[0m\u001b[0;34m\u001b[0m\u001b[0;34m\u001b[0m\u001b[0;34m\u001b[0m\u001b[0m\n\u001b[1;32m      4\u001b[0m \u001b[0mdata_falcon9\u001b[0m\u001b[0;34m.\u001b[0m\u001b[0mloc\u001b[0m\u001b[0;34m[\u001b[0m\u001b[0;34m:\u001b[0m\u001b[0;34m,\u001b[0m \u001b[0;34m'FlightNumber'\u001b[0m\u001b[0;34m]\u001b[0m \u001b[0;34m=\u001b[0m \u001b[0mlist\u001b[0m\u001b[0;34m(\u001b[0m\u001b[0mrange\u001b[0m\u001b[0;34m(\u001b[0m\u001b[0;36m1\u001b[0m\u001b[0;34m,\u001b[0m \u001b[0mlen\u001b[0m\u001b[0;34m(\u001b[0m\u001b[0mdata_falcon9\u001b[0m\u001b[0;34m)\u001b[0m \u001b[0;34m+\u001b[0m \u001b[0;36m1\u001b[0m\u001b[0;34m)\u001b[0m\u001b[0;34m)\u001b[0m\u001b[0;34m\u001b[0m\u001b[0;34m\u001b[0m\u001b[0m\n\u001b[1;32m      5\u001b[0m \u001b[0;31m# Mostrar cuántos lanzamientos de Falcon 9 hay\u001b[0m\u001b[0;34m\u001b[0m\u001b[0;34m\u001b[0m\u001b[0;34m\u001b[0m\u001b[0m\n",
      "\u001b[0;32m~/conda/envs/python/lib/python3.7/site-packages/pandas/core/frame.py\u001b[0m in \u001b[0;36m__getitem__\u001b[0;34m(self, key)\u001b[0m\n\u001b[1;32m   3456\u001b[0m             \u001b[0;32mif\u001b[0m \u001b[0mself\u001b[0m\u001b[0;34m.\u001b[0m\u001b[0mcolumns\u001b[0m\u001b[0;34m.\u001b[0m\u001b[0mnlevels\u001b[0m \u001b[0;34m>\u001b[0m \u001b[0;36m1\u001b[0m\u001b[0;34m:\u001b[0m\u001b[0;34m\u001b[0m\u001b[0;34m\u001b[0m\u001b[0m\n\u001b[1;32m   3457\u001b[0m                 \u001b[0;32mreturn\u001b[0m \u001b[0mself\u001b[0m\u001b[0;34m.\u001b[0m\u001b[0m_getitem_multilevel\u001b[0m\u001b[0;34m(\u001b[0m\u001b[0mkey\u001b[0m\u001b[0;34m)\u001b[0m\u001b[0;34m\u001b[0m\u001b[0;34m\u001b[0m\u001b[0m\n\u001b[0;32m-> 3458\u001b[0;31m             \u001b[0mindexer\u001b[0m \u001b[0;34m=\u001b[0m \u001b[0mself\u001b[0m\u001b[0;34m.\u001b[0m\u001b[0mcolumns\u001b[0m\u001b[0;34m.\u001b[0m\u001b[0mget_loc\u001b[0m\u001b[0;34m(\u001b[0m\u001b[0mkey\u001b[0m\u001b[0;34m)\u001b[0m\u001b[0;34m\u001b[0m\u001b[0;34m\u001b[0m\u001b[0m\n\u001b[0m\u001b[1;32m   3459\u001b[0m             \u001b[0;32mif\u001b[0m \u001b[0mis_integer\u001b[0m\u001b[0;34m(\u001b[0m\u001b[0mindexer\u001b[0m\u001b[0;34m)\u001b[0m\u001b[0;34m:\u001b[0m\u001b[0;34m\u001b[0m\u001b[0;34m\u001b[0m\u001b[0m\n\u001b[1;32m   3460\u001b[0m                 \u001b[0mindexer\u001b[0m \u001b[0;34m=\u001b[0m \u001b[0;34m[\u001b[0m\u001b[0mindexer\u001b[0m\u001b[0;34m]\u001b[0m\u001b[0;34m\u001b[0m\u001b[0;34m\u001b[0m\u001b[0m\n",
      "\u001b[0;32m~/conda/envs/python/lib/python3.7/site-packages/pandas/core/indexes/base.py\u001b[0m in \u001b[0;36mget_loc\u001b[0;34m(self, key, method, tolerance)\u001b[0m\n\u001b[1;32m   3361\u001b[0m                 \u001b[0;32mreturn\u001b[0m \u001b[0mself\u001b[0m\u001b[0;34m.\u001b[0m\u001b[0m_engine\u001b[0m\u001b[0;34m.\u001b[0m\u001b[0mget_loc\u001b[0m\u001b[0;34m(\u001b[0m\u001b[0mcasted_key\u001b[0m\u001b[0;34m)\u001b[0m\u001b[0;34m\u001b[0m\u001b[0;34m\u001b[0m\u001b[0m\n\u001b[1;32m   3362\u001b[0m             \u001b[0;32mexcept\u001b[0m \u001b[0mKeyError\u001b[0m \u001b[0;32mas\u001b[0m \u001b[0merr\u001b[0m\u001b[0;34m:\u001b[0m\u001b[0;34m\u001b[0m\u001b[0;34m\u001b[0m\u001b[0m\n\u001b[0;32m-> 3363\u001b[0;31m                 \u001b[0;32mraise\u001b[0m \u001b[0mKeyError\u001b[0m\u001b[0;34m(\u001b[0m\u001b[0mkey\u001b[0m\u001b[0;34m)\u001b[0m \u001b[0;32mfrom\u001b[0m \u001b[0merr\u001b[0m\u001b[0;34m\u001b[0m\u001b[0;34m\u001b[0m\u001b[0m\n\u001b[0m\u001b[1;32m   3364\u001b[0m \u001b[0;34m\u001b[0m\u001b[0m\n\u001b[1;32m   3365\u001b[0m         \u001b[0;32mif\u001b[0m \u001b[0mis_scalar\u001b[0m\u001b[0;34m(\u001b[0m\u001b[0mkey\u001b[0m\u001b[0;34m)\u001b[0m \u001b[0;32mand\u001b[0m \u001b[0misna\u001b[0m\u001b[0;34m(\u001b[0m\u001b[0mkey\u001b[0m\u001b[0;34m)\u001b[0m \u001b[0;32mand\u001b[0m \u001b[0;32mnot\u001b[0m \u001b[0mself\u001b[0m\u001b[0;34m.\u001b[0m\u001b[0mhasnans\u001b[0m\u001b[0;34m:\u001b[0m\u001b[0;34m\u001b[0m\u001b[0;34m\u001b[0m\u001b[0m\n",
      "\u001b[0;31mKeyError\u001b[0m: 'BoosterVersion'"
     ]
    }
   ],
   "source": [
    " \n",
    "# Filtrar los lanzamientos que no son Falcon 1\n",
    "data_falcon9 = data[data['BoosterVersion'] != 'Falcon 1']\n",
    "# Reiniciar la numeración de los vuelos\n",
    "data_falcon9.loc[:, 'FlightNumber'] = list(range(1, len(data_falcon9) + 1))\n",
    "# Mostrar cuántos lanzamientos de Falcon 9 hay\n",
    "print(len(data_falcon9))"
   ]
  },
  {
   "cell_type": "code",
   "execution_count": null,
   "id": "4cc77dbe-38df-44ab-add9-5b3b368ac958",
   "metadata": {
    "tags": []
   },
   "outputs": [],
   "source": []
  },
  {
   "cell_type": "code",
   "execution_count": 47,
   "id": "c0814968-068a-4f6e-b0da-8cfe4519f0bf",
   "metadata": {
    "tags": []
   },
   "outputs": [
    {
     "name": "stdout",
     "output_type": "stream",
     "text": [
      "Valores faltantes en 'landingPad': 187\n"
     ]
    }
   ],
   "source": [
    " \n",
    "import requests\n",
    "import pandas as pd\n",
    "# Obtener datos desde la API\n",
    "url = \"https://api.spacexdata.com/v4/launches/past\"\n",
    "response = requests.get(url)\n",
    "data_json = response.json()\n",
    "# Convertir a DataFrame\n",
    "df = pd.json_normalize(data_json)\n",
    "# Extraer 'landing_pad' desde la lista de 'cores'\n",
    "def extract_landing_pad(cores):\n",
    "    if isinstance(cores, list) and len(cores) > 0 and isinstance(cores[0], dict):\n",
    "        return cores[0].get('landing_pad', None)\n",
    "    return None\n",
    "df['landingPad'] = df['cores'].apply(extract_landing_pad)\n",
    "# Ver cuántos valores faltan\n",
    "print(\"Valores faltantes en 'landingPad':\", df['landingPad'].isnull().sum())\n"
   ]
  },
  {
   "cell_type": "code",
   "execution_count": null,
   "id": "2e446630-418e-4bdf-8384-2f736ea29020",
   "metadata": {},
   "outputs": [],
   "source": []
  },
  {
   "cell_type": "code",
   "execution_count": null,
   "id": "59b3c602-4d76-4990-844f-eedc53d1aa65",
   "metadata": {},
   "outputs": [],
   "source": []
  },
  {
   "cell_type": "code",
   "execution_count": null,
   "id": "d07375e4-dd9b-40cd-be9a-2ae417786ef0",
   "metadata": {},
   "outputs": [],
   "source": []
  }
 ],
 "metadata": {
  "kernelspec": {
   "display_name": "Python",
   "language": "python",
   "name": "conda-env-python-py"
  },
  "language_info": {
   "codemirror_mode": {
    "name": "ipython",
    "version": 3
   },
   "file_extension": ".py",
   "mimetype": "text/x-python",
   "name": "python",
   "nbconvert_exporter": "python",
   "pygments_lexer": "ipython3",
   "version": "3.7.12"
  }
 },
 "nbformat": 4,
 "nbformat_minor": 5
}
