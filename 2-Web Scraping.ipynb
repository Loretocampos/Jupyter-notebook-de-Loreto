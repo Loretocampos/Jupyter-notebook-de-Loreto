{
 "cells": [
  {
   "cell_type": "code",
   "execution_count": null,
   "id": "85398ffc-1dfd-4ab3-bb5b-6370c6a81f6f",
   "metadata": {},
   "outputs": [],
   "source": [
    "\n",
    "\n",
    "\n"
   ]
  },
  {
   "cell_type": "code",
   "execution_count": 1,
   "id": "52c48f01-012c-40f0-87dd-7f5747d08947",
   "metadata": {
    "tags": []
   },
   "outputs": [
    {
     "name": "stdout",
     "output_type": "stream",
     "text": [
      "Requirement already satisfied: beautifulsoup4 in /home/jupyterlab/conda/envs/python/lib/python3.7/site-packages (4.11.1)\n",
      "Requirement already satisfied: soupsieve>1.2 in /home/jupyterlab/conda/envs/python/lib/python3.7/site-packages (from beautifulsoup4) (2.3.2.post1)\n",
      "Requirement already satisfied: requests in /home/jupyterlab/conda/envs/python/lib/python3.7/site-packages (2.29.0)\n",
      "Requirement already satisfied: charset-normalizer<4,>=2 in /home/jupyterlab/conda/envs/python/lib/python3.7/site-packages (from requests) (3.1.0)\n",
      "Requirement already satisfied: idna<4,>=2.5 in /home/jupyterlab/conda/envs/python/lib/python3.7/site-packages (from requests) (3.4)\n",
      "Requirement already satisfied: urllib3<1.27,>=1.21.1 in /home/jupyterlab/conda/envs/python/lib/python3.7/site-packages (from requests) (1.26.15)\n",
      "Requirement already satisfied: certifi>=2017.4.17 in /home/jupyterlab/conda/envs/python/lib/python3.7/site-packages (from requests) (2023.5.7)\n"
     ]
    }
   ],
   "source": [
    "!pip3 install beautifulsoup4\n",
    "!pip3 install requests"
   ]
  },
  {
   "cell_type": "code",
   "execution_count": null,
   "id": "6f8e0628-12b3-4265-8eb7-a91984b9b1eb",
   "metadata": {},
   "outputs": [],
   "source": []
  },
  {
   "cell_type": "code",
   "execution_count": 2,
   "id": "c37c001c-16dc-454e-a030-bb5c8bf4a247",
   "metadata": {
    "tags": []
   },
   "outputs": [],
   "source": [
    "import sys\n",
    "\n",
    "import requests\n",
    "from bs4 import BeautifulSoup\n",
    "import re\n",
    "import unicodedata\n",
    "import pandas as pd"
   ]
  },
  {
   "cell_type": "code",
   "execution_count": 2,
   "id": "cc77d922-ba39-4166-a54e-996047f9bd9d",
   "metadata": {
    "tags": []
   },
   "outputs": [],
   "source": []
  },
  {
   "cell_type": "code",
   "execution_count": null,
   "id": "cf0a8b11-d308-4fcd-aca8-282cd5887860",
   "metadata": {},
   "outputs": [],
   "source": [
    "def date_time(table_cells):\n",
    "    \"\"\"\n",
    "    This function returns the data and time from the HTML  table cell\n",
    "    Input: the  element of a table data cell extracts extra row\n",
    "    \"\"\"\n",
    "    return [data_time.strip() for data_time in list(table_cells.strings)][0:2]\n",
    "\n",
    "def booster_version(table_cells):\n",
    "    \"\"\"\n",
    "    This function returns the booster version from the HTML  table cell \n",
    "    Input: the  element of a table data cell extracts extra row\n",
    "    \"\"\"\n",
    "    out=''.join([booster_version for i,booster_version in enumerate( table_cells.strings) if i%2==0][0:-1])\n",
    "    return out\n",
    "\n",
    "def landing_status(table_cells):\n",
    "    \"\"\"\n",
    "    This function returns the landing status from the HTML table cell \n",
    "    Input: the  element of a table data cell extracts extra row\n",
    "    \"\"\"\n",
    "    out=[i for i in table_cells.strings][0]\n",
    "    return out\n",
    "\n",
    "\n",
    "def get_mass(table_cells):\n",
    "    mass=unicodedata.normalize(\"NFKD\", table_cells.text).strip()\n",
    "    if mass:\n",
    "        mass.find(\"kg\")\n",
    "        new_mass=mass[0:mass.find(\"kg\")+2]\n",
    "    else:\n",
    "        new_mass=0\n",
    "    return new_mass\n",
    "\n",
    "\n",
    "def extract_column_from_header(row):\n",
    "    \"\"\"\n",
    "    This function returns the landing status from the HTML table cell \n",
    "    Input: the  element of a table data cell extracts extra row\n",
    "    \"\"\"\n",
    "    if (row.br):\n",
    "        row.br.extract()\n",
    "    if row.a:\n",
    "        row.a.extract()\n",
    "    if row.sup:\n",
    "        row.sup.extract()\n",
    "        \n",
    "    colunm_name = ' '.join(row.contents)\n",
    "    \n",
    "    # Filter the digit and empty names\n",
    "    if not(colunm_name.strip().isdigit()):\n",
    "        colunm_name = colunm_name.strip()\n",
    "        return colunm_name    \n"
   ]
  },
  {
   "cell_type": "code",
   "execution_count": null,
   "id": "4160a95c-41f0-4da0-bf0e-fa2737c2c89f",
   "metadata": {},
   "outputs": [],
   "source": [
    "static_url = \"https://en.wikipedia.org/w/index.php?title=List_of_Falcon_9_and_Falcon_Heavy_launches&oldid=1027686922\"\n",
    "\n",
    "headers = {\n",
    "    \"User-Agent\": \"Mozilla/5.0 (Windows NT 10.0; Win64; x64) \"\n",
    "                  \"AppleWebKit/537.36 (KHTML, like Gecko) \"\n",
    "                  \"Chrome/91.0.4472.124 Safari/537.36\"\n",
    "}"
   ]
  },
  {
   "cell_type": "code",
   "execution_count": null,
   "id": "197f896b-9727-428c-a1e5-25e25b9575fc",
   "metadata": {},
   "outputs": [],
   "source": [
    "# Let's print the third table and check its content\n",
    "first_launch_table = html_tables[2]\n",
    "print(first_launch_table)"
   ]
  },
  {
   "cell_type": "code",
   "execution_count": null,
   "id": "4579f3d3-023a-46f8-8194-38c19a482831",
   "metadata": {},
   "outputs": [],
   "source": [
    "print(column_names)"
   ]
  },
  {
   "cell_type": "code",
   "execution_count": null,
   "id": "91ed5a78-c6a7-458b-8d8b-e0a075b54b9d",
   "metadata": {},
   "outputs": [],
   "source": [
    "launch_dict= dict.fromkeys(column_names)\n",
    "\n",
    "# Remove an irrelvant column\n",
    "del launch_dict['Date and time ( )']\n",
    "\n",
    "# Let's initial the launch_dict with each value to be an empty list\n",
    "launch_dict['Flight No.'] = []\n",
    "launch_dict['Launch site'] = []\n",
    "launch_dict['Payload'] = []\n",
    "launch_dict['Payload mass'] = []\n",
    "launch_dict['Orbit'] = []\n",
    "launch_dict['Customer'] = []\n",
    "launch_dict['Launch outcome'] = []\n",
    "# Added some new columns\n",
    "launch_dict['Version Booster']=[]\n",
    "launch_dict['Booster landing']=[]\n",
    "launch_dict['Date']=[]\n",
    "launch_dict['Time']=[]"
   ]
  },
  {
   "cell_type": "code",
   "execution_count": null,
   "id": "5ef197fb-fc45-46c9-94cb-86160336c7de",
   "metadata": {},
   "outputs": [],
   "source": [
    "extracted_row = 0\n",
    "#Extract each table \n",
    "for table_number,table in enumerate(soup.find_all('table',\"wikitable plainrowheaders collapsible\")):\n",
    "   # get table row \n",
    "    for rows in table.find_all(\"tr\"):\n",
    "        #check to see if first table heading is as number corresponding to launch a number \n",
    "        if rows.th:\n",
    "            if rows.th.string:\n",
    "                flight_number=rows.th.string.strip()\n",
    "                flag=flight_number.isdigit()\n",
    "        else:\n",
    "            flag=False\n",
    "        #get table element \n",
    "        row=rows.find_all('td')\n",
    "        #if it is number save cells in a dictonary \n",
    "        if flag:\n",
    "            extracted_row += 1\n",
    "            # Flight Number value\n",
    "            # TODO: Append the flight_number into launch_dict with key `Flight No.`\n",
    "            #print(flight_number)\n",
    "            datatimelist=date_time(row[0])\n",
    "            \n",
    "            # Date value\n",
    "            # TODO: Append the date into launch_dict with key `Date`\n",
    "            date = datatimelist[0].strip(',')\n",
    "            #print(date)\n",
    "            \n",
    "            # Time value\n",
    "            # TODO: Append the time into launch_dict with key `Time`\n",
    "            time = datatimelist[1]\n",
    "            #print(time)\n",
    "              \n",
    "            # Booster version\n",
    "            # TODO: Append the bv into launch_dict with key `Version Booster`\n",
    "            bv=booster_version(row[1])\n",
    "            if not(bv):\n",
    "                bv=row[1].a.string\n",
    "            print(bv)\n",
    "            \n",
    "            # Launch Site\n",
    "            # TODO: Append the bv into launch_dict with key `Launch Site`\n",
    "            launch_site = row[2].a.string\n",
    "            #print(launch_site)\n",
    "            \n",
    "            # Payload\n",
    "            # TODO: Append the payload into launch_dict with key `Payload`\n",
    "            payload = row[3].a.string\n",
    "            #print(payload)\n",
    "            \n",
    "            # Payload Mass\n",
    "            # TODO: Append the payload_mass into launch_dict with key `Payload mass`\n",
    "            payload_mass = get_mass(row[4])\n",
    "            #print(payload)\n",
    "            \n",
    "            # Orbit\n",
    "            # TODO: Append the orbit into launch_dict with key `Orbit`\n",
    "            orbit = row[5].a.string\n",
    "            #print(orbit)\n",
    "            \n",
    "            # Customer\n",
    "            # TODO: Append the customer into launch_dict with key `Customer`\n",
    "            customer = row[6].a.string\n",
    "            #print(customer)\n",
    "            \n",
    "            # Launch outcome\n",
    "            # TODO: Append the launch_outcome into launch_dict with key `Launch outcome`\n",
    "            launch_outcome = list(row[7].strings)[0]\n",
    "            #print(launch_outcome)\n",
    "            \n",
    "            # Booster landing\n",
    "            # TODO: Append the launch_outcome into launch_dict with key `Booster landing`\n",
    "            booster_landing = landing_status(row[8])\n",
    "            #print(booster_landing)\n",
    "            "
   ]
  },
  {
   "cell_type": "code",
   "execution_count": null,
   "id": "87b17340-51cd-441e-a366-da5301263653",
   "metadata": {},
   "outputs": [],
   "source": [
    "df= pd.DataFrame({ key:pd.Series(value) for key, value in launch_dict.items() })"
   ]
  },
  {
   "cell_type": "code",
   "execution_count": 2,
   "id": "38f72648-79a6-4812-85f2-781f03486833",
   "metadata": {
    "tags": []
   },
   "outputs": [],
   "source": []
  },
  {
   "cell_type": "code",
   "execution_count": 1,
   "id": "5b93b836-7c90-4323-8ef5-1744fe63ad0e",
   "metadata": {
    "tags": []
   },
   "outputs": [],
   "source": [
    "spacex_url=\"https://api.spacexdata.com/v4/launches/past\""
   ]
  },
  {
   "cell_type": "code",
   "execution_count": 2,
   "id": "44b80e39-a05d-4d09-a122-bf680c9d14b9",
   "metadata": {
    "tags": []
   },
   "outputs": [],
   "source": [
    "import pandas as pd\n",
    "url = 'https://raw.githubusercontent.com/Melissa795/SpaceX-Falcon-9-Prediction-Landing/main/dataset_part_1.csv'\n",
    "data = pd.read_csv(url)\n",
    " "
   ]
  },
  {
   "cell_type": "code",
   "execution_count": 3,
   "id": "22cc46db-b419-46e7-9626-2e19b2e428eb",
   "metadata": {
    "tags": []
   },
   "outputs": [
    {
     "name": "stdout",
     "output_type": "stream",
     "text": [
      "90\n"
     ]
    }
   ],
   "source": [
    " \n",
    "# Filtrar los lanzamientos que no son Falcon 1\n",
    "data_falcon9 = data[data['BoosterVersion'] != 'Falcon 1']\n",
    "# Reiniciar la numeración de los vuelos\n",
    "data_falcon9.loc[:, 'FlightNumber'] = list(range(1, len(data_falcon9) + 1))\n",
    "# Mostrar cuántos lanzamientos de Falcon 9 hay\n",
    "print(len(data_falcon9))"
   ]
  },
  {
   "cell_type": "code",
   "execution_count": 4,
   "id": "922b4b41-b7c4-441e-8c48-087447758a2a",
   "metadata": {
    "tags": []
   },
   "outputs": [
    {
     "name": "stdout",
     "output_type": "stream",
     "text": [
      "Falcon 9    90\n",
      "Name: BoosterVersion, dtype: int64\n"
     ]
    }
   ],
   "source": [
    " \n",
    "print(data['BoosterVersion'].value_counts())\n"
   ]
  },
  {
   "cell_type": "code",
   "execution_count": 5,
   "id": "80035a7e-a101-4119-a6d0-3805b080d9cd",
   "metadata": {
    "tags": []
   },
   "outputs": [
    {
     "name": "stdout",
     "output_type": "stream",
     "text": [
      "Falcon 9    90\n",
      "Name: BoosterVersion, dtype: int64\n"
     ]
    }
   ],
   "source": [
    " \n",
    "# Mostrar cuántos lanzamientos hay por tipo de cohete\n",
    "print(data['BoosterVersion'].value_counts())\n",
    " \n"
   ]
  },
  {
   "cell_type": "code",
   "execution_count": null,
   "id": "d878d628-2dfb-404e-8007-6622acbdc620",
   "metadata": {
    "tags": []
   },
   "outputs": [],
   "source": [
    "data.isnull().sum()"
   ]
  },
  {
   "cell_type": "code",
   "execution_count": null,
   "id": "2d7513a6-3a5b-4673-a843-3b5bcfb4188f",
   "metadata": {
    "tags": []
   },
   "outputs": [],
   "source": [
    " \n",
    "# Ver cuántos valores faltan en la columna 'landingPad'\n",
    "faltantes_landingpad = data['landingPad'].isnull().sum()\n",
    "print(f\"Valores faltantes en 'landingPad': {faltantes_landingpad}\")"
   ]
  },
  {
   "cell_type": "code",
   "execution_count": null,
   "id": "e15c2e9a-821e-4320-98ac-0360792ba6dd",
   "metadata": {},
   "outputs": [],
   "source": []
  },
  {
   "cell_type": "code",
   "execution_count": 8,
   "id": "2f7195b4-02aa-412c-9a35-0b1ab59add2f",
   "metadata": {
    "tags": []
   },
   "outputs": [],
   "source": [
    "spacex_url=\"https://api.spacexdata.com/v4/launches/past\""
   ]
  },
  {
   "cell_type": "code",
   "execution_count": null,
   "id": "49d89470-210f-43e1-aaae-fc49d1a44505",
   "metadata": {},
   "outputs": [],
   "source": []
  },
  {
   "cell_type": "code",
   "execution_count": 10,
   "id": "aa58d309-1cfd-4e89-88b7-0f20c017c695",
   "metadata": {},
   "outputs": [],
   "source": [
    "spacex_url=\"https://api.spacexdata.com/v4/launches/past\""
   ]
  },
  {
   "cell_type": "code",
   "execution_count": 12,
   "id": "c346bbf4-3158-45cb-b527-84cea2c998b4",
   "metadata": {
    "tags": []
   },
   "outputs": [
    {
     "name": "stdout",
     "output_type": "stream",
     "text": [
      "Index(['FlightNumber', 'Date', 'BoosterVersion', 'PayloadMass', 'Orbit',\n",
      "       'LaunchSite', 'Outcome', 'Flights', 'GridFins', 'Reused', 'Legs',\n",
      "       'LandingPad', 'Block', 'ReusedCount', 'Serial', 'Longitude',\n",
      "       'Latitude'],\n",
      "      dtype='object')\n"
     ]
    }
   ],
   "source": [
    "print(data.columns)"
   ]
  },
  {
   "cell_type": "code",
   "execution_count": 13,
   "id": "2f4d788e-dbfc-41a6-a174-510fa3fa817f",
   "metadata": {
    "tags": []
   },
   "outputs": [
    {
     "name": "stdout",
     "output_type": "stream",
     "text": [
      "Index(['static_fire_date_utc', 'static_fire_date_unix', 'net', 'window',\n",
      "       'rocket', 'success', 'failures', 'details', 'crew', 'ships', 'capsules',\n",
      "       'payloads', 'launchpad', 'flight_number', 'name', 'date_utc',\n",
      "       'date_unix', 'date_local', 'date_precision', 'upcoming', 'cores',\n",
      "       'auto_update', 'tbd', 'launch_library_id', 'id', 'fairings.reused',\n",
      "       'fairings.recovery_attempt', 'fairings.recovered', 'fairings.ships',\n",
      "       'links.patch.small', 'links.patch.large', 'links.reddit.campaign',\n",
      "       'links.reddit.launch', 'links.reddit.media', 'links.reddit.recovery',\n",
      "       'links.flickr.small', 'links.flickr.original', 'links.presskit',\n",
      "       'links.webcast', 'links.youtube_id', 'links.article', 'links.wikipedia',\n",
      "       'fairings'],\n",
      "      dtype='object')\n",
      "La columna 'LandingPad' no existe.\n"
     ]
    }
   ],
   "source": [
    " \n",
    "import requests\n",
    "import pandas as pd\n",
    "# Obtener datos desde la API\n",
    "url = \"https://api.spacexdata.com/v4/launches/past\"\n",
    "response = requests.get(url)\n",
    "data_json = response.json()\n",
    "# Convertir a DataFrame\n",
    "df = pd.json_normalize(data_json)\n",
    "# Verificar columnas disponibles\n",
    "print(df.columns)\n",
    "# Verificar si existe 'LandingPad'\n",
    "if 'LandingPad' in df.columns:\n",
    "    print(\"Valores faltantes en 'LandingPad':\", df['LandingPad'].isnull().sum())\n",
    "else:\n",
    "    print(\"La columna 'LandingPad' no existe.\")\n",
    " "
   ]
  },
  {
   "cell_type": "code",
   "execution_count": 14,
   "id": "429cedac-c860-459a-becd-cad78f3e868a",
   "metadata": {
    "tags": []
   },
   "outputs": [
    {
     "name": "stdout",
     "output_type": "stream",
     "text": [
      "Valores faltantes en 'landingPad': 187\n"
     ]
    }
   ],
   "source": [
    " \n",
    "import requests\n",
    "import pandas as pd\n",
    "# Obtener datos desde la API\n",
    "url = \"https://api.spacexdata.com/v4/launches/past\"\n",
    "response = requests.get(url)\n",
    "data_json = response.json()\n",
    "# Convertir a DataFrame\n",
    "df = pd.json_normalize(data_json)\n",
    "# Extraer 'landing_pad' desde la lista de 'cores'\n",
    "def extract_landing_pad(cores):\n",
    "    if isinstance(cores, list) and len(cores) > 0 and isinstance(cores[0], dict):\n",
    "        return cores[0].get('landing_pad', None)\n",
    "    return None\n",
    "df['landingPad'] = df['cores'].apply(extract_landing_pad)\n",
    "# Ver cuántos valores faltan\n",
    "print(\"Valores faltantes en 'landingPad':\", df['landingPad'].isnull().sum())"
   ]
  },
  {
   "cell_type": "code",
   "execution_count": 15,
   "id": "08ab685b-80e5-49b9-a916-00102f5abc3c",
   "metadata": {
    "tags": []
   },
   "outputs": [
    {
     "name": "stdout",
     "output_type": "stream",
     "text": [
      "Valores faltantes en 'landingPad': 187\n"
     ]
    }
   ],
   "source": [
    " \n",
    "import requests\n",
    "import pandas as pd\n",
    "# Obtener datos desde la API\n",
    "url = \"https://api.spacexdata.com/v4/launches/past\"\n",
    "response = requests.get(url)\n",
    "data_json = response.json()\n",
    "# Convertir a DataFrame\n",
    "df = pd.json_normalize(data_json)\n",
    "# Extraer 'landing_pad' desde la lista de 'cores'\n",
    "def extract_landing_pad(cores):\n",
    "    if isinstance(cores, list) and len(cores) > 0 and isinstance(cores[0], dict):\n",
    "        return cores[0].get('landing_pad', None)\n",
    "    return None\n",
    "df['landingPad'] = df['cores'].apply(extract_landing_pad)\n",
    "# Ver cuántos valores faltan\n",
    "print(\"Valores faltantes en 'landingPad':\", df['landingPad'].isnull().sum())"
   ]
  },
  {
   "cell_type": "code",
   "execution_count": null,
   "id": "ccd73b96-0d80-4da2-b2a3-a49b2b03cb39",
   "metadata": {
    "tags": []
   },
   "outputs": [],
   "source": [
    " \n",
    "df['landingPad'] = df['cores'].apply(lambda x: x[0]['landing_pad'] if x and isinstance(x[0], dict) else None)"
   ]
  },
  {
   "cell_type": "code",
   "execution_count": 16,
   "id": "d1185813-b186-419e-ad45-cf507f49edf9",
   "metadata": {
    "tags": []
   },
   "outputs": [
    {
     "name": "stdout",
     "output_type": "stream",
     "text": [
      "187\n"
     ]
    }
   ],
   "source": [
    "print(df['landingPad'].isnull().sum())  # Debería dar 26"
   ]
  },
  {
   "cell_type": "code",
   "execution_count": 18,
   "id": "ab0a6ea1-be76-41eb-aefc-e59ac5230952",
   "metadata": {
    "tags": []
   },
   "outputs": [],
   "source": [
    " \n",
    "def extract_landing_pad(cores):\n",
    "    if isinstance(cores, list):\n",
    "        pads = [core.get('landing_pad') for core in cores if isinstance(core, dict)]\n",
    "        return pads[0] if pads else None\n",
    "    return None\n",
    "df['landingPad'] = df['cores'].apply(extract_landing_pad)"
   ]
  },
  {
   "cell_type": "code",
   "execution_count": null,
   "id": "3d6634f7-47f8-4ad3-9990-cd5bf8dec3ee",
   "metadata": {},
   "outputs": [],
   "source": []
  }
 ],
 "metadata": {
  "kernelspec": {
   "display_name": "Python",
   "language": "python",
   "name": "conda-env-python-py"
  },
  "language_info": {
   "codemirror_mode": {
    "name": "ipython",
    "version": 3
   },
   "file_extension": ".py",
   "mimetype": "text/x-python",
   "name": "python",
   "nbconvert_exporter": "python",
   "pygments_lexer": "ipython3",
   "version": "3.7.12"
  }
 },
 "nbformat": 4,
 "nbformat_minor": 5
}
